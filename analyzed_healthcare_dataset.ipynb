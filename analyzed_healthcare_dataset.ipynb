{
 "cells": [
  {
   "cell_type": "markdown",
   "id": "25b01c2d-8de9-44ca-a7b6-0796e99840a8",
   "metadata": {},
   "source": [
    "## Analyze hospital admissions to determine peak months, major patient age groups, and average cost per medical condition\n",
    "\n",
    "\n"
   ]
  },
  {
   "cell_type": "code",
   "execution_count": 255,
   "id": "ae56b98d-4ae4-4ec8-bb83-8fe4e1714219",
   "metadata": {},
   "outputs": [],
   "source": [
    "import pandas as pd\n",
    "import matplotlib.pyplot as plt\n",
    "import datetime as dt\n",
    "import numpy as np"
   ]
  },
  {
   "cell_type": "code",
   "execution_count": 256,
   "id": "198cef76-166d-4028-b13a-9e1760552baa",
   "metadata": {},
   "outputs": [
    {
     "data": {
      "text/html": [
       "<div>\n",
       "<style scoped>\n",
       "    .dataframe tbody tr th:only-of-type {\n",
       "        vertical-align: middle;\n",
       "    }\n",
       "\n",
       "    .dataframe tbody tr th {\n",
       "        vertical-align: top;\n",
       "    }\n",
       "\n",
       "    .dataframe thead th {\n",
       "        text-align: right;\n",
       "    }\n",
       "</style>\n",
       "<table border=\"1\" class=\"dataframe\">\n",
       "  <thead>\n",
       "    <tr style=\"text-align: right;\">\n",
       "      <th></th>\n",
       "      <th>Name</th>\n",
       "      <th>Age</th>\n",
       "      <th>Gender</th>\n",
       "      <th>Blood Type</th>\n",
       "      <th>Medical Condition</th>\n",
       "      <th>Date Of Admission</th>\n",
       "      <th>Doctor</th>\n",
       "      <th>Insurance Provider</th>\n",
       "      <th>Billing Amount</th>\n",
       "      <th>Room Number</th>\n",
       "      <th>Admission Type</th>\n",
       "      <th>Discharge Date</th>\n",
       "      <th>Medication</th>\n",
       "      <th>Test Results</th>\n",
       "      <th>Provider Names</th>\n",
       "    </tr>\n",
       "  </thead>\n",
       "  <tbody>\n",
       "    <tr>\n",
       "      <th>0</th>\n",
       "      <td>Bobby Jackson</td>\n",
       "      <td>30</td>\n",
       "      <td>Male</td>\n",
       "      <td>B-</td>\n",
       "      <td>Cancer</td>\n",
       "      <td>2024-01-31</td>\n",
       "      <td>Matthew Smith</td>\n",
       "      <td>Blue Cross</td>\n",
       "      <td>18856.281306</td>\n",
       "      <td>328</td>\n",
       "      <td>Urgent</td>\n",
       "      <td>2024-02-02</td>\n",
       "      <td>Paracetamol</td>\n",
       "      <td>Normal</td>\n",
       "      <td>Sons and Miller</td>\n",
       "    </tr>\n",
       "    <tr>\n",
       "      <th>1</th>\n",
       "      <td>Leslie Terry</td>\n",
       "      <td>62</td>\n",
       "      <td>Male</td>\n",
       "      <td>A+</td>\n",
       "      <td>Obesity</td>\n",
       "      <td>2019-08-20</td>\n",
       "      <td>Samantha Davies</td>\n",
       "      <td>Medicare</td>\n",
       "      <td>33643.327287</td>\n",
       "      <td>265</td>\n",
       "      <td>Emergency</td>\n",
       "      <td>2019-08-26</td>\n",
       "      <td>Ibuprofen</td>\n",
       "      <td>Inconclusive</td>\n",
       "      <td>Kim Inc</td>\n",
       "    </tr>\n",
       "    <tr>\n",
       "      <th>2</th>\n",
       "      <td>Danny Smith</td>\n",
       "      <td>76</td>\n",
       "      <td>Female</td>\n",
       "      <td>A-</td>\n",
       "      <td>Obesity</td>\n",
       "      <td>2022-09-22</td>\n",
       "      <td>Tiffany Mitchell</td>\n",
       "      <td>Aetna</td>\n",
       "      <td>27955.096079</td>\n",
       "      <td>205</td>\n",
       "      <td>Emergency</td>\n",
       "      <td>2022-10-07</td>\n",
       "      <td>Aspirin</td>\n",
       "      <td>Normal</td>\n",
       "      <td>Cook PLC</td>\n",
       "    </tr>\n",
       "    <tr>\n",
       "      <th>3</th>\n",
       "      <td>Andrew Watts</td>\n",
       "      <td>28</td>\n",
       "      <td>Female</td>\n",
       "      <td>O+</td>\n",
       "      <td>Diabetes</td>\n",
       "      <td>2020-11-18</td>\n",
       "      <td>Kevin Wells</td>\n",
       "      <td>Medicare</td>\n",
       "      <td>37909.782410</td>\n",
       "      <td>450</td>\n",
       "      <td>Elective</td>\n",
       "      <td>2020-12-18</td>\n",
       "      <td>Ibuprofen</td>\n",
       "      <td>Abnormal</td>\n",
       "      <td>Hernandez Rogers and Vang</td>\n",
       "    </tr>\n",
       "    <tr>\n",
       "      <th>4</th>\n",
       "      <td>Adrienne Bell</td>\n",
       "      <td>43</td>\n",
       "      <td>Female</td>\n",
       "      <td>Ab+</td>\n",
       "      <td>Cancer</td>\n",
       "      <td>2022-09-19</td>\n",
       "      <td>Kathleen Hanna</td>\n",
       "      <td>Aetna</td>\n",
       "      <td>14238.317814</td>\n",
       "      <td>458</td>\n",
       "      <td>Urgent</td>\n",
       "      <td>2022-10-09</td>\n",
       "      <td>Penicillin</td>\n",
       "      <td>Abnormal</td>\n",
       "      <td>White-White</td>\n",
       "    </tr>\n",
       "  </tbody>\n",
       "</table>\n",
       "</div>"
      ],
      "text/plain": [
       "            Name  Age  Gender Blood Type Medical Condition Date Of Admission  \\\n",
       "0  Bobby Jackson   30    Male         B-            Cancer        2024-01-31   \n",
       "1   Leslie Terry   62    Male         A+           Obesity        2019-08-20   \n",
       "2    Danny Smith   76  Female         A-           Obesity        2022-09-22   \n",
       "3   Andrew Watts   28  Female         O+          Diabetes        2020-11-18   \n",
       "4  Adrienne Bell   43  Female        Ab+            Cancer        2022-09-19   \n",
       "\n",
       "             Doctor Insurance Provider  Billing Amount  Room Number  \\\n",
       "0     Matthew Smith         Blue Cross    18856.281306          328   \n",
       "1   Samantha Davies           Medicare    33643.327287          265   \n",
       "2  Tiffany Mitchell              Aetna    27955.096079          205   \n",
       "3       Kevin Wells           Medicare    37909.782410          450   \n",
       "4    Kathleen Hanna              Aetna    14238.317814          458   \n",
       "\n",
       "  Admission Type Discharge Date   Medication  Test Results  \\\n",
       "0         Urgent     2024-02-02  Paracetamol        Normal   \n",
       "1      Emergency     2019-08-26    Ibuprofen  Inconclusive   \n",
       "2      Emergency     2022-10-07      Aspirin        Normal   \n",
       "3       Elective     2020-12-18    Ibuprofen      Abnormal   \n",
       "4         Urgent     2022-10-09   Penicillin      Abnormal   \n",
       "\n",
       "              Provider Names  \n",
       "0            Sons and Miller  \n",
       "1                    Kim Inc  \n",
       "2                   Cook PLC  \n",
       "3  Hernandez Rogers and Vang  \n",
       "4                White-White  "
      ]
     },
     "execution_count": 256,
     "metadata": {},
     "output_type": "execute_result"
    }
   ],
   "source": [
    "data=pd.read_csv('fixed_cleaned_healthcare_dataset.csv',parse_dates=['Date Of Admission','Discharge Date'])\n",
    "data.head()"
   ]
  },
  {
   "cell_type": "code",
   "execution_count": 257,
   "id": "27ea7bd4-be95-44c6-8f02-39780ff7329f",
   "metadata": {},
   "outputs": [
    {
     "name": "stdout",
     "output_type": "stream",
     "text": [
      "<class 'pandas.core.frame.DataFrame'>\n",
      "RangeIndex: 54966 entries, 0 to 54965\n",
      "Data columns (total 15 columns):\n",
      " #   Column              Non-Null Count  Dtype         \n",
      "---  ------              --------------  -----         \n",
      " 0   Name                54966 non-null  object        \n",
      " 1   Age                 54966 non-null  int64         \n",
      " 2   Gender              54966 non-null  object        \n",
      " 3   Blood Type          54966 non-null  object        \n",
      " 4   Medical Condition   54966 non-null  object        \n",
      " 5   Date Of Admission   54966 non-null  datetime64[ns]\n",
      " 6   Doctor              54966 non-null  object        \n",
      " 7   Insurance Provider  54966 non-null  object        \n",
      " 8   Billing Amount      54966 non-null  float64       \n",
      " 9   Room Number         54966 non-null  int64         \n",
      " 10  Admission Type      54966 non-null  object        \n",
      " 11  Discharge Date      54966 non-null  datetime64[ns]\n",
      " 12  Medication          54966 non-null  object        \n",
      " 13  Test Results        54966 non-null  object        \n",
      " 14  Provider Names      54966 non-null  object        \n",
      "dtypes: datetime64[ns](2), float64(1), int64(2), object(10)\n",
      "memory usage: 6.3+ MB\n"
     ]
    }
   ],
   "source": [
    "data.info()\n"
   ]
  },
  {
   "cell_type": "code",
   "execution_count": 258,
   "id": "3684e5de-44f8-44f8-ab23-2c7fb7a5d0f4",
   "metadata": {},
   "outputs": [],
   "source": [
    "#Convert some data objects into category\n",
    "categorical_columns=['Gender','Medical Condition','Insurance Provider','Admission Type','Medication','Test Results','Blood Type']\n",
    "for col in categorical_columns:\n",
    "    data[col]=data[col].astype('category')"
   ]
  },
  {
   "cell_type": "code",
   "execution_count": 259,
   "id": "ebb21673-0cc5-4737-88e1-1c6001a70bd0",
   "metadata": {},
   "outputs": [
    {
     "data": {
      "text/plain": [
       "Name                          object\n",
       "Age                            int64\n",
       "Gender                      category\n",
       "Blood Type                  category\n",
       "Medical Condition           category\n",
       "Date Of Admission     datetime64[ns]\n",
       "Doctor                        object\n",
       "Insurance Provider          category\n",
       "Billing Amount               float64\n",
       "Room Number                    int64\n",
       "Admission Type              category\n",
       "Discharge Date        datetime64[ns]\n",
       "Medication                  category\n",
       "Test Results                category\n",
       "Provider Names                object\n",
       "dtype: object"
      ]
     },
     "execution_count": 259,
     "metadata": {},
     "output_type": "execute_result"
    }
   ],
   "source": [
    "data.dtypes"
   ]
  },
  {
   "cell_type": "code",
   "execution_count": 260,
   "id": "fb9638d2-05ee-414a-8ef0-e4a5bb99610e",
   "metadata": {},
   "outputs": [
    {
     "data": {
      "text/plain": [
       "Medical Condition\n",
       "Arthritis       9218\n",
       "Asthma          9095\n",
       "Cancer          9140\n",
       "Diabetes        9216\n",
       "Hypertension    9151\n",
       "Obesity         9146\n",
       "dtype: int64"
      ]
     },
     "execution_count": 260,
     "metadata": {},
     "output_type": "execute_result"
    }
   ],
   "source": [
    "medical_condition=data.groupby('Medical Condition',observed=True)\n",
    "medical_condition.size()"
   ]
  },
  {
   "cell_type": "markdown",
   "id": "fb3ea3a7-6568-420f-8afa-6af67ec73a6a",
   "metadata": {},
   "source": [
    "## Categorize ages into age groups ##"
   ]
  },
  {
   "cell_type": "code",
   "execution_count": 261,
   "id": "f93784dc-1d19-4a3d-bc5a-c1df1bd49563",
   "metadata": {},
   "outputs": [],
   "source": [
    "def age_group(age):\n",
    "    if age <13:\n",
    "        return 'Children'\n",
    "    elif 13<=age<=18:\n",
    "        return 'Teenagers'\n",
    "    elif 19<= age <=24:\n",
    "        return 'Young Adults'\n",
    "    elif 25<=age<=64:\n",
    "        return 'Adults'\n",
    "    elif age>=65:\n",
    "        return 'Seniors'\n",
    "   "
   ]
  },
  {
   "cell_type": "code",
   "execution_count": 262,
   "id": "0a4fbc2d-ee80-4e41-bcbf-4dc6f8b29796",
   "metadata": {},
   "outputs": [
    {
     "data": {
      "text/plain": [
       "array(['Adults', 'Seniors', 'Young Adults', 'Teenagers'], dtype=object)"
      ]
     },
     "execution_count": 262,
     "metadata": {},
     "output_type": "execute_result"
    }
   ],
   "source": [
    "age_groups=data['Age'].apply(age_group)\n",
    "age_groups.unique()"
   ]
  },
  {
   "cell_type": "code",
   "execution_count": 263,
   "id": "47a9ea68-06a7-49d3-af32-4097d9b3cca8",
   "metadata": {},
   "outputs": [
    {
     "data": {
      "text/plain": [
       "Age\n",
       "Adults          32383\n",
       "Seniors         16923\n",
       "Young Adults     4774\n",
       "Teenagers         886\n",
       "Name: count, dtype: int64"
      ]
     },
     "execution_count": 263,
     "metadata": {},
     "output_type": "execute_result"
    }
   ],
   "source": [
    "counts=age_groups.value_counts()\n",
    "counts"
   ]
  },
  {
   "cell_type": "code",
   "execution_count": 264,
   "id": "4104d521-f133-4f1b-8712-388c486ba90f",
   "metadata": {},
   "outputs": [
    {
     "data": {
      "image/png": "[encoded data removed]",
      "text/plain": [
       "<Figure size 640x480 with 1 Axes>"
      ]
     },
     "metadata": {},
     "output_type": "display_data"
    }
   ],
   "source": [
    "counts.plot(kind='pie',legend=True,labels=counts.index,autopct='%1.1f%%',startangle=90,)\n",
    "plt.title('Proportion of Age Group')\n",
    "plt.ylabel('')\n",
    "plt.show()"
   ]
  },
  {
   "cell_type": "markdown",
   "id": "1216a3c4-1e19-4752-897b-86f08c4fbf3a",
   "metadata": {},
   "source": [
    "#### Among the patients, adults represent the majority age group, indicating that most healthcare services in this dataset are utilized by individuals aged 25–64. ####"
   ]
  },
  {
   "cell_type": "markdown",
   "id": "01770255-b4f7-4c39-9bb7-65a3a505ca98",
   "metadata": {},
   "source": [
    "#### Find the longest stay"
   ]
  },
  {
   "cell_type": "code",
   "execution_count": 265,
   "id": "9f706839-896d-49d5-a7d2-641befe0bb80",
   "metadata": {},
   "outputs": [
    {
     "data": {
      "text/html": [
       "<div>\n",
       "<style scoped>\n",
       "    .dataframe tbody tr th:only-of-type {\n",
       "        vertical-align: middle;\n",
       "    }\n",
       "\n",
       "    .dataframe tbody tr th {\n",
       "        vertical-align: top;\n",
       "    }\n",
       "\n",
       "    .dataframe thead th {\n",
       "        text-align: right;\n",
       "    }\n",
       "</style>\n",
       "<table border=\"1\" class=\"dataframe\">\n",
       "  <thead>\n",
       "    <tr style=\"text-align: right;\">\n",
       "      <th></th>\n",
       "      <th>Name</th>\n",
       "      <th>Age</th>\n",
       "      <th>Gender</th>\n",
       "      <th>Blood Type</th>\n",
       "      <th>Medical Condition</th>\n",
       "      <th>Date Of Admission</th>\n",
       "      <th>Doctor</th>\n",
       "      <th>Insurance Provider</th>\n",
       "      <th>Billing Amount</th>\n",
       "      <th>Room Number</th>\n",
       "      <th>Admission Type</th>\n",
       "      <th>Discharge Date</th>\n",
       "      <th>Medication</th>\n",
       "      <th>Test Results</th>\n",
       "      <th>Provider Names</th>\n",
       "      <th>Stay Length</th>\n",
       "    </tr>\n",
       "  </thead>\n",
       "  <tbody>\n",
       "    <tr>\n",
       "      <th>0</th>\n",
       "      <td>Bobby Jackson</td>\n",
       "      <td>30</td>\n",
       "      <td>Male</td>\n",
       "      <td>B-</td>\n",
       "      <td>Cancer</td>\n",
       "      <td>2024-01-31</td>\n",
       "      <td>Matthew Smith</td>\n",
       "      <td>Blue Cross</td>\n",
       "      <td>18856.281306</td>\n",
       "      <td>328</td>\n",
       "      <td>Urgent</td>\n",
       "      <td>2024-02-02</td>\n",
       "      <td>Paracetamol</td>\n",
       "      <td>Normal</td>\n",
       "      <td>Sons and Miller</td>\n",
       "      <td>2 days</td>\n",
       "    </tr>\n",
       "    <tr>\n",
       "      <th>1</th>\n",
       "      <td>Leslie Terry</td>\n",
       "      <td>62</td>\n",
       "      <td>Male</td>\n",
       "      <td>A+</td>\n",
       "      <td>Obesity</td>\n",
       "      <td>2019-08-20</td>\n",
       "      <td>Samantha Davies</td>\n",
       "      <td>Medicare</td>\n",
       "      <td>33643.327287</td>\n",
       "      <td>265</td>\n",
       "      <td>Emergency</td>\n",
       "      <td>2019-08-26</td>\n",
       "      <td>Ibuprofen</td>\n",
       "      <td>Inconclusive</td>\n",
       "      <td>Kim Inc</td>\n",
       "      <td>6 days</td>\n",
       "    </tr>\n",
       "    <tr>\n",
       "      <th>2</th>\n",
       "      <td>Danny Smith</td>\n",
       "      <td>76</td>\n",
       "      <td>Female</td>\n",
       "      <td>A-</td>\n",
       "      <td>Obesity</td>\n",
       "      <td>2022-09-22</td>\n",
       "      <td>Tiffany Mitchell</td>\n",
       "      <td>Aetna</td>\n",
       "      <td>27955.096079</td>\n",
       "      <td>205</td>\n",
       "      <td>Emergency</td>\n",
       "      <td>2022-10-07</td>\n",
       "      <td>Aspirin</td>\n",
       "      <td>Normal</td>\n",
       "      <td>Cook PLC</td>\n",
       "      <td>15 days</td>\n",
       "    </tr>\n",
       "    <tr>\n",
       "      <th>3</th>\n",
       "      <td>Andrew Watts</td>\n",
       "      <td>28</td>\n",
       "      <td>Female</td>\n",
       "      <td>O+</td>\n",
       "      <td>Diabetes</td>\n",
       "      <td>2020-11-18</td>\n",
       "      <td>Kevin Wells</td>\n",
       "      <td>Medicare</td>\n",
       "      <td>37909.782410</td>\n",
       "      <td>450</td>\n",
       "      <td>Elective</td>\n",
       "      <td>2020-12-18</td>\n",
       "      <td>Ibuprofen</td>\n",
       "      <td>Abnormal</td>\n",
       "      <td>Hernandez Rogers and Vang</td>\n",
       "      <td>30 days</td>\n",
       "    </tr>\n",
       "    <tr>\n",
       "      <th>4</th>\n",
       "      <td>Adrienne Bell</td>\n",
       "      <td>43</td>\n",
       "      <td>Female</td>\n",
       "      <td>Ab+</td>\n",
       "      <td>Cancer</td>\n",
       "      <td>2022-09-19</td>\n",
       "      <td>Kathleen Hanna</td>\n",
       "      <td>Aetna</td>\n",
       "      <td>14238.317814</td>\n",
       "      <td>458</td>\n",
       "      <td>Urgent</td>\n",
       "      <td>2022-10-09</td>\n",
       "      <td>Penicillin</td>\n",
       "      <td>Abnormal</td>\n",
       "      <td>White-White</td>\n",
       "      <td>20 days</td>\n",
       "    </tr>\n",
       "  </tbody>\n",
       "</table>\n",
       "</div>"
      ],
      "text/plain": [
       "            Name  Age  Gender Blood Type Medical Condition Date Of Admission  \\\n",
       "0  Bobby Jackson   30    Male         B-            Cancer        2024-01-31   \n",
       "1   Leslie Terry   62    Male         A+           Obesity        2019-08-20   \n",
       "2    Danny Smith   76  Female         A-           Obesity        2022-09-22   \n",
       "3   Andrew Watts   28  Female         O+          Diabetes        2020-11-18   \n",
       "4  Adrienne Bell   43  Female        Ab+            Cancer        2022-09-19   \n",
       "\n",
       "             Doctor Insurance Provider  Billing Amount  Room Number  \\\n",
       "0     Matthew Smith         Blue Cross    18856.281306          328   \n",
       "1   Samantha Davies           Medicare    33643.327287          265   \n",
       "2  Tiffany Mitchell              Aetna    27955.096079          205   \n",
       "3       Kevin Wells           Medicare    37909.782410          450   \n",
       "4    Kathleen Hanna              Aetna    14238.317814          458   \n",
       "\n",
       "  Admission Type Discharge Date   Medication  Test Results  \\\n",
       "0         Urgent     2024-02-02  Paracetamol        Normal   \n",
       "1      Emergency     2019-08-26    Ibuprofen  Inconclusive   \n",
       "2      Emergency     2022-10-07      Aspirin        Normal   \n",
       "3       Elective     2020-12-18    Ibuprofen      Abnormal   \n",
       "4         Urgent     2022-10-09   Penicillin      Abnormal   \n",
       "\n",
       "              Provider Names Stay Length  \n",
       "0            Sons and Miller      2 days  \n",
       "1                    Kim Inc      6 days  \n",
       "2                   Cook PLC     15 days  \n",
       "3  Hernandez Rogers and Vang     30 days  \n",
       "4                White-White     20 days  "
      ]
     },
     "execution_count": 265,
     "metadata": {},
     "output_type": "execute_result"
    }
   ],
   "source": [
    "#Calculate the length of hospital stay\n",
    "data['Stay Length']=data['Discharge Date']-data['Date Of Admission']\n",
    "data.head()"
   ]
  },
  {
   "cell_type": "code",
   "execution_count": null,
   "id": "75992998-9d91-4f56-894b-382abe11e5c7",
   "metadata": {},
   "outputs": [],
   "source": []
  },
  {
   "cell_type": "code",
   "execution_count": 266,
   "id": "36ad1105-95c4-4cc1-92b1-9a7c359e2060",
   "metadata": {},
   "outputs": [
    {
     "data": {
      "text/plain": [
       "1854"
      ]
     },
     "execution_count": 266,
     "metadata": {},
     "output_type": "execute_result"
    }
   ],
   "source": [
    "#Find the longest stay\n",
    "max_stay=data['Stay Length'].max()\n",
    "long_stay=data[data['Stay Length']==max_stay]\n",
    "len(long_stay)"
   ]
  },
  {
   "cell_type": "code",
   "execution_count": 267,
   "id": "f2368842-0c68-46fa-80f6-d442aaa9fb8e",
   "metadata": {},
   "outputs": [
    {
     "data": {
      "text/plain": [
       "Timedelta('30 days 00:00:00')"
      ]
     },
     "execution_count": 267,
     "metadata": {},
     "output_type": "execute_result"
    }
   ],
   "source": [
    "max_stay"
   ]
  },
  {
   "cell_type": "markdown",
   "id": "3a53363b-0495-4d06-99df-8bd904c25354",
   "metadata": {},
   "source": [
    "### This analysis focuses exlusively on patients with the longest hospital stays"
   ]
  },
  {
   "cell_type": "markdown",
   "id": "f68ee18b-3152-4f47-a3f2-80e4835115ff",
   "metadata": {},
   "source": [
    "#Create a new DataFrame with the longest stay (30 days)\n",
    "longest_stay=data[data['Stay Length']==max_stay]\n",
    "longest_stay=longest_stay.reset_index(drop=True)\n",
    "longest_stay.head()"
   ]
  },
  {
   "cell_type": "markdown",
   "id": "722c1a28-e3e9-41a8-82cf-f5353d4629f5",
   "metadata": {},
   "source": [
    "### Maximum and Minimum Billing Amount by Gender, Condition, and Insurance Provider"
   ]
  },
  {
   "cell_type": "code",
   "execution_count": 268,
   "id": "d17db611-5f56-4c5f-99e7-39794538bd3b",
   "metadata": {},
   "outputs": [
    {
     "data": {
      "text/html": [
       "<style type=\"text/css\">\n",
       "#T_0ffa2_row0_col1, #T_0ffa2_row1_col2, #T_0ffa2_row2_col1, #T_0ffa2_row3_col4, #T_0ffa2_row4_col3, #T_0ffa2_row5_col3, #T_0ffa2_row6_col3, #T_0ffa2_row7_col1, #T_0ffa2_row8_col3, #T_0ffa2_row9_col2, #T_0ffa2_row10_col4, #T_0ffa2_row11_col0 {\n",
       "  background-color: orange;\n",
       "}\n",
       "#T_0ffa2_row0_col4, #T_0ffa2_row1_col0, #T_0ffa2_row2_col4, #T_0ffa2_row3_col1, #T_0ffa2_row4_col4, #T_0ffa2_row5_col4, #T_0ffa2_row6_col0, #T_0ffa2_row7_col2, #T_0ffa2_row8_col4, #T_0ffa2_row9_col0, #T_0ffa2_row10_col2, #T_0ffa2_row11_col2 {\n",
       "  background-color: lightgreen;\n",
       "}\n",
       "</style>\n",
       "<table id=\"T_0ffa2\">\n",
       "  <thead>\n",
       "    <tr>\n",
       "      <th class=\"blank\" >&nbsp;</th>\n",
       "      <th class=\"index_name level0\" >Insurance Provider</th>\n",
       "      <th id=\"T_0ffa2_level0_col0\" class=\"col_heading level0 col0\" >Aetna</th>\n",
       "      <th id=\"T_0ffa2_level0_col1\" class=\"col_heading level0 col1\" >Blue Cross</th>\n",
       "      <th id=\"T_0ffa2_level0_col2\" class=\"col_heading level0 col2\" >Cigna</th>\n",
       "      <th id=\"T_0ffa2_level0_col3\" class=\"col_heading level0 col3\" >Medicare</th>\n",
       "      <th id=\"T_0ffa2_level0_col4\" class=\"col_heading level0 col4\" >Unitedhealthcare</th>\n",
       "    </tr>\n",
       "    <tr>\n",
       "      <th class=\"index_name level0\" >Gender</th>\n",
       "      <th class=\"index_name level1\" >Medical Condition</th>\n",
       "      <th class=\"blank col0\" >&nbsp;</th>\n",
       "      <th class=\"blank col1\" >&nbsp;</th>\n",
       "      <th class=\"blank col2\" >&nbsp;</th>\n",
       "      <th class=\"blank col3\" >&nbsp;</th>\n",
       "      <th class=\"blank col4\" >&nbsp;</th>\n",
       "    </tr>\n",
       "  </thead>\n",
       "  <tbody>\n",
       "    <tr>\n",
       "      <th id=\"T_0ffa2_level0_row0\" class=\"row_heading level0 row0\" rowspan=\"6\">Female</th>\n",
       "      <th id=\"T_0ffa2_level1_row0\" class=\"row_heading level1 row0\" >Arthritis</th>\n",
       "      <td id=\"T_0ffa2_row0_col0\" class=\"data row0 col0\" >50012.330747</td>\n",
       "      <td id=\"T_0ffa2_row0_col1\" class=\"data row0 col1\" >50881.655891</td>\n",
       "      <td id=\"T_0ffa2_row0_col2\" class=\"data row0 col2\" >50121.133530</td>\n",
       "      <td id=\"T_0ffa2_row0_col3\" class=\"data row0 col3\" >50485.610911</td>\n",
       "      <td id=\"T_0ffa2_row0_col4\" class=\"data row0 col4\" >48522.929146</td>\n",
       "    </tr>\n",
       "    <tr>\n",
       "      <th id=\"T_0ffa2_level1_row1\" class=\"row_heading level1 row1\" >Asthma</th>\n",
       "      <td id=\"T_0ffa2_row1_col0\" class=\"data row1 col0\" >44160.081468</td>\n",
       "      <td id=\"T_0ffa2_row1_col1\" class=\"data row1 col1\" >48363.654385</td>\n",
       "      <td id=\"T_0ffa2_row1_col2\" class=\"data row1 col2\" >48566.821194</td>\n",
       "      <td id=\"T_0ffa2_row1_col3\" class=\"data row1 col3\" >47897.400630</td>\n",
       "      <td id=\"T_0ffa2_row1_col4\" class=\"data row1 col4\" >45093.224279</td>\n",
       "    </tr>\n",
       "    <tr>\n",
       "      <th id=\"T_0ffa2_level1_row2\" class=\"row_heading level1 row2\" >Cancer</th>\n",
       "      <td id=\"T_0ffa2_row2_col0\" class=\"data row2 col0\" >47311.243764</td>\n",
       "      <td id=\"T_0ffa2_row2_col1\" class=\"data row2 col1\" >49782.607469</td>\n",
       "      <td id=\"T_0ffa2_row2_col2\" class=\"data row2 col2\" >48416.203358</td>\n",
       "      <td id=\"T_0ffa2_row2_col3\" class=\"data row2 col3\" >49464.637062</td>\n",
       "      <td id=\"T_0ffa2_row2_col4\" class=\"data row2 col4\" >46055.472606</td>\n",
       "    </tr>\n",
       "    <tr>\n",
       "      <th id=\"T_0ffa2_level1_row3\" class=\"row_heading level1 row3\" >Diabetes</th>\n",
       "      <td id=\"T_0ffa2_row3_col0\" class=\"data row3 col0\" >50325.557008</td>\n",
       "      <td id=\"T_0ffa2_row3_col1\" class=\"data row3 col1\" >49056.989532</td>\n",
       "      <td id=\"T_0ffa2_row3_col2\" class=\"data row3 col2\" >49277.839359</td>\n",
       "      <td id=\"T_0ffa2_row3_col3\" class=\"data row3 col3\" >50243.534947</td>\n",
       "      <td id=\"T_0ffa2_row3_col4\" class=\"data row3 col4\" >50937.250333</td>\n",
       "    </tr>\n",
       "    <tr>\n",
       "      <th id=\"T_0ffa2_level1_row4\" class=\"row_heading level1 row4\" >Hypertension</th>\n",
       "      <td id=\"T_0ffa2_row4_col0\" class=\"data row4 col0\" >50189.798417</td>\n",
       "      <td id=\"T_0ffa2_row4_col1\" class=\"data row4 col1\" >47615.763281</td>\n",
       "      <td id=\"T_0ffa2_row4_col2\" class=\"data row4 col2\" >48424.582599</td>\n",
       "      <td id=\"T_0ffa2_row4_col3\" class=\"data row4 col3\" >50192.217067</td>\n",
       "      <td id=\"T_0ffa2_row4_col4\" class=\"data row4 col4\" >45492.551252</td>\n",
       "    </tr>\n",
       "    <tr>\n",
       "      <th id=\"T_0ffa2_level1_row5\" class=\"row_heading level1 row5\" >Obesity</th>\n",
       "      <td id=\"T_0ffa2_row5_col0\" class=\"data row5 col0\" >47764.511150</td>\n",
       "      <td id=\"T_0ffa2_row5_col1\" class=\"data row5 col1\" >48436.277733</td>\n",
       "      <td id=\"T_0ffa2_row5_col2\" class=\"data row5 col2\" >48952.579179</td>\n",
       "      <td id=\"T_0ffa2_row5_col3\" class=\"data row5 col3\" >49124.277713</td>\n",
       "      <td id=\"T_0ffa2_row5_col4\" class=\"data row5 col4\" >44092.843106</td>\n",
       "    </tr>\n",
       "    <tr>\n",
       "      <th id=\"T_0ffa2_level0_row6\" class=\"row_heading level0 row6\" rowspan=\"6\">Male</th>\n",
       "      <th id=\"T_0ffa2_level1_row6\" class=\"row_heading level1 row6\" >Arthritis</th>\n",
       "      <td id=\"T_0ffa2_row6_col0\" class=\"data row6 col0\" >45992.556294</td>\n",
       "      <td id=\"T_0ffa2_row6_col1\" class=\"data row6 col1\" >48206.051418</td>\n",
       "      <td id=\"T_0ffa2_row6_col2\" class=\"data row6 col2\" >48457.104989</td>\n",
       "      <td id=\"T_0ffa2_row6_col3\" class=\"data row6 col3\" >50759.677601</td>\n",
       "      <td id=\"T_0ffa2_row6_col4\" class=\"data row6 col4\" >49193.821839</td>\n",
       "    </tr>\n",
       "    <tr>\n",
       "      <th id=\"T_0ffa2_level1_row7\" class=\"row_heading level1 row7\" >Asthma</th>\n",
       "      <td id=\"T_0ffa2_row7_col0\" class=\"data row7 col0\" >47628.202471</td>\n",
       "      <td id=\"T_0ffa2_row7_col1\" class=\"data row7 col1\" >50003.870447</td>\n",
       "      <td id=\"T_0ffa2_row7_col2\" class=\"data row7 col2\" >43860.940871</td>\n",
       "      <td id=\"T_0ffa2_row7_col3\" class=\"data row7 col3\" >46822.872879</td>\n",
       "      <td id=\"T_0ffa2_row7_col4\" class=\"data row7 col4\" >49505.417046</td>\n",
       "    </tr>\n",
       "    <tr>\n",
       "      <th id=\"T_0ffa2_level1_row8\" class=\"row_heading level1 row8\" >Cancer</th>\n",
       "      <td id=\"T_0ffa2_row8_col0\" class=\"data row8 col0\" >48004.974679</td>\n",
       "      <td id=\"T_0ffa2_row8_col1\" class=\"data row8 col1\" >49757.802420</td>\n",
       "      <td id=\"T_0ffa2_row8_col2\" class=\"data row8 col2\" >49215.585504</td>\n",
       "      <td id=\"T_0ffa2_row8_col3\" class=\"data row8 col3\" >50296.787062</td>\n",
       "      <td id=\"T_0ffa2_row8_col4\" class=\"data row8 col4\" >47689.083136</td>\n",
       "    </tr>\n",
       "    <tr>\n",
       "      <th id=\"T_0ffa2_level1_row9\" class=\"row_heading level1 row9\" >Diabetes</th>\n",
       "      <td id=\"T_0ffa2_row9_col0\" class=\"data row9 col0\" >46845.006055</td>\n",
       "      <td id=\"T_0ffa2_row9_col1\" class=\"data row9 col1\" >49349.263652</td>\n",
       "      <td id=\"T_0ffa2_row9_col2\" class=\"data row9 col2\" >50060.724676</td>\n",
       "      <td id=\"T_0ffa2_row9_col3\" class=\"data row9 col3\" >48995.980592</td>\n",
       "      <td id=\"T_0ffa2_row9_col4\" class=\"data row9 col4\" >47478.090715</td>\n",
       "    </tr>\n",
       "    <tr>\n",
       "      <th id=\"T_0ffa2_level1_row10\" class=\"row_heading level1 row10\" >Hypertension</th>\n",
       "      <td id=\"T_0ffa2_row10_col0\" class=\"data row10 col0\" >47715.026099</td>\n",
       "      <td id=\"T_0ffa2_row10_col1\" class=\"data row10 col1\" >49663.872838</td>\n",
       "      <td id=\"T_0ffa2_row10_col2\" class=\"data row10 col2\" >47691.769516</td>\n",
       "      <td id=\"T_0ffa2_row10_col3\" class=\"data row10 col3\" >48083.626562</td>\n",
       "      <td id=\"T_0ffa2_row10_col4\" class=\"data row10 col4\" >49827.519768</td>\n",
       "    </tr>\n",
       "    <tr>\n",
       "      <th id=\"T_0ffa2_level1_row11\" class=\"row_heading level1 row11\" >Obesity</th>\n",
       "      <td id=\"T_0ffa2_row11_col0\" class=\"data row11 col0\" >50068.818951</td>\n",
       "      <td id=\"T_0ffa2_row11_col1\" class=\"data row11 col1\" >48679.942320</td>\n",
       "      <td id=\"T_0ffa2_row11_col2\" class=\"data row11 col2\" >48574.753118</td>\n",
       "      <td id=\"T_0ffa2_row11_col3\" class=\"data row11 col3\" >48974.729648</td>\n",
       "      <td id=\"T_0ffa2_row11_col4\" class=\"data row11 col4\" >49381.647681</td>\n",
       "    </tr>\n",
       "  </tbody>\n",
       "</table>\n"
      ],
      "text/plain": [
       "<pandas.io.formats.style.Styler at 0x1e23774b610>"
      ]
     },
     "execution_count": 268,
     "metadata": {},
     "output_type": "execute_result"
    }
   ],
   "source": [
    "pivots=longest_stay.pivot_table(values='Billing Amount',index=['Gender','Medical Condition'],columns='Insurance Provider',aggfunc='max',observed=False)\n",
    "pivots.style.highlight_max(axis=1, color='orange')\\\n",
    "    .highlight_min(axis=1,color='lightgreen')\n"
   ]
  },
  {
   "cell_type": "code",
   "execution_count": 269,
   "id": "c3168fa4-d4d2-4b6e-b490-c94b4f6b2b8f",
   "metadata": {
    "scrolled": true
   },
   "outputs": [
    {
     "data": {
      "text/html": [
       "<div>\n",
       "<style scoped>\n",
       "    .dataframe tbody tr th:only-of-type {\n",
       "        vertical-align: middle;\n",
       "    }\n",
       "\n",
       "    .dataframe tbody tr th {\n",
       "        vertical-align: top;\n",
       "    }\n",
       "\n",
       "    .dataframe thead th {\n",
       "        text-align: right;\n",
       "    }\n",
       "</style>\n",
       "<table border=\"1\" class=\"dataframe\">\n",
       "  <thead>\n",
       "    <tr style=\"text-align: right;\">\n",
       "      <th></th>\n",
       "      <th></th>\n",
       "      <th>Top Insurance Provider</th>\n",
       "      <th>Max Billing Amount</th>\n",
       "    </tr>\n",
       "    <tr>\n",
       "      <th>Gender</th>\n",
       "      <th>Medical Condition</th>\n",
       "      <th></th>\n",
       "      <th></th>\n",
       "    </tr>\n",
       "  </thead>\n",
       "  <tbody>\n",
       "    <tr>\n",
       "      <th rowspan=\"6\" valign=\"top\">Female</th>\n",
       "      <th>Arthritis</th>\n",
       "      <td>Blue Cross</td>\n",
       "      <td>50881.655891</td>\n",
       "    </tr>\n",
       "    <tr>\n",
       "      <th>Asthma</th>\n",
       "      <td>Cigna</td>\n",
       "      <td>48566.821194</td>\n",
       "    </tr>\n",
       "    <tr>\n",
       "      <th>Cancer</th>\n",
       "      <td>Blue Cross</td>\n",
       "      <td>49782.607469</td>\n",
       "    </tr>\n",
       "    <tr>\n",
       "      <th>Diabetes</th>\n",
       "      <td>Unitedhealthcare</td>\n",
       "      <td>50937.250333</td>\n",
       "    </tr>\n",
       "    <tr>\n",
       "      <th>Hypertension</th>\n",
       "      <td>Medicare</td>\n",
       "      <td>50192.217067</td>\n",
       "    </tr>\n",
       "    <tr>\n",
       "      <th>Obesity</th>\n",
       "      <td>Medicare</td>\n",
       "      <td>49124.277713</td>\n",
       "    </tr>\n",
       "    <tr>\n",
       "      <th rowspan=\"6\" valign=\"top\">Male</th>\n",
       "      <th>Arthritis</th>\n",
       "      <td>Medicare</td>\n",
       "      <td>50759.677601</td>\n",
       "    </tr>\n",
       "    <tr>\n",
       "      <th>Asthma</th>\n",
       "      <td>Blue Cross</td>\n",
       "      <td>50003.870447</td>\n",
       "    </tr>\n",
       "    <tr>\n",
       "      <th>Cancer</th>\n",
       "      <td>Medicare</td>\n",
       "      <td>50296.787062</td>\n",
       "    </tr>\n",
       "    <tr>\n",
       "      <th>Diabetes</th>\n",
       "      <td>Cigna</td>\n",
       "      <td>50060.724676</td>\n",
       "    </tr>\n",
       "    <tr>\n",
       "      <th>Hypertension</th>\n",
       "      <td>Unitedhealthcare</td>\n",
       "      <td>49827.519768</td>\n",
       "    </tr>\n",
       "    <tr>\n",
       "      <th>Obesity</th>\n",
       "      <td>Aetna</td>\n",
       "      <td>50068.818951</td>\n",
       "    </tr>\n",
       "  </tbody>\n",
       "</table>\n",
       "</div>"
      ],
      "text/plain": [
       "                         Top Insurance Provider  Max Billing Amount\n",
       "Gender Medical Condition                                           \n",
       "Female Arthritis                     Blue Cross        50881.655891\n",
       "       Asthma                             Cigna        48566.821194\n",
       "       Cancer                        Blue Cross        49782.607469\n",
       "       Diabetes                Unitedhealthcare        50937.250333\n",
       "       Hypertension                    Medicare        50192.217067\n",
       "       Obesity                         Medicare        49124.277713\n",
       "Male   Arthritis                       Medicare        50759.677601\n",
       "       Asthma                        Blue Cross        50003.870447\n",
       "       Cancer                          Medicare        50296.787062\n",
       "       Diabetes                           Cigna        50060.724676\n",
       "       Hypertension            Unitedhealthcare        49827.519768\n",
       "       Obesity                            Aetna        50068.818951"
      ]
     },
     "execution_count": 269,
     "metadata": {},
     "output_type": "execute_result"
    }
   ],
   "source": [
    "highest_per_group=pivots.idxmax(axis=1)#which column has the max for each row\n",
    "max_value=pivots.max(axis=1)#the actual highest value\n",
    "summary=pd.DataFrame({\n",
    "    'Top Insurance Provider':highest_per_group,\n",
    "    'Max Billing Amount':max_value\n",
    "})\n",
    "summary"
   ]
  },
  {
   "cell_type": "code",
   "execution_count": 270,
   "id": "fd2fc80d-60e0-4efa-9e46-a37c1880908d",
   "metadata": {},
   "outputs": [],
   "source": [
    "summary_reset=summary.reset_index()\n"
   ]
  },
  {
   "cell_type": "code",
   "execution_count": 282,
   "id": "68340895-893c-4e94-a0ca-56e486839eb5",
   "metadata": {},
   "outputs": [
    {
     "data": {
      "image/png": "[encoded data removed]",
      "text/plain": [
       "<Figure size 1800x800 with 1 Axes>"
      ]
     },
     "metadata": {},
     "output_type": "display_data"
    }
   ],
   "source": [
    "pivot_amount=summary_reset.pivot(index='Medical Condition', columns='Gender', values='Max Billing Amount')\n",
    "pivot_provider=summary_reset.pivot(index='Medical Condition', columns='Gender', values='Top Insurance Provider')\n",
    "\n",
    "# Plot grouped bar chart\n",
    "colors = ['red', 'blue']\n",
    "ax = pivot_amount.plot(kind='bar', figsize=(18,8), color=colors)\n",
    "\n",
    "# Add labels: provider + amount\n",
    "for container, gender in zip(ax.containers, ['Female','Male']):\n",
    "    for bar, cond in zip(container, pivot_amount.index):\n",
    "        height = bar.get_height()\n",
    "        provider = pivot_provider.loc[cond, gender]\n",
    "        ax.text(bar.get_x() + bar.get_width()/2, height + 300, f\"{provider}\\n{height:.0f}\",\n",
    "                ha='center', va='bottom', fontsize=8)\n",
    "        \n",
    "plt.title('Max Billing Amount by Gender & Medical Condition')\n",
    "plt.xlabel('Medical Condition')\n",
    "plt.ylabel('Max Billing Amount')\n",
    "plt.xticks(rotation=0)\n",
    "plt.legend(title='Gender')\n",
    "\n",
    "plt.show()\n",
    "\n"
   ]
  },
  {
   "cell_type": "code",
   "execution_count": 272,
   "id": "2d01e5dd-08d2-4a87-9365-5224346f67c0",
   "metadata": {},
   "outputs": [
    {
     "data": {
      "text/plain": [
       "'Cancer'"
      ]
     },
     "execution_count": 272,
     "metadata": {},
     "output_type": "execute_result"
    }
   ],
   "source": [
    "#Group Conditions\n",
    "condidionts=longest_stay.groupby('Medical Condition',observed=True)\n",
    "conditions.size().idxmax()"
   ]
  },
  {
   "cell_type": "code",
   "execution_count": 273,
   "id": "6a201509-cd96-4343-a034-06d82da4f350",
   "metadata": {},
   "outputs": [
    {
     "data": {
      "text/html": [
       "<div>\n",
       "<style scoped>\n",
       "    .dataframe tbody tr th:only-of-type {\n",
       "        vertical-align: middle;\n",
       "    }\n",
       "\n",
       "    .dataframe tbody tr th {\n",
       "        vertical-align: top;\n",
       "    }\n",
       "\n",
       "    .dataframe thead th {\n",
       "        text-align: right;\n",
       "    }\n",
       "</style>\n",
       "<table border=\"1\" class=\"dataframe\">\n",
       "  <thead>\n",
       "    <tr style=\"text-align: right;\">\n",
       "      <th></th>\n",
       "      <th>sum</th>\n",
       "      <th>mean</th>\n",
       "    </tr>\n",
       "    <tr>\n",
       "      <th>Medical Condition</th>\n",
       "      <th></th>\n",
       "      <th></th>\n",
       "    </tr>\n",
       "  </thead>\n",
       "  <tbody>\n",
       "    <tr>\n",
       "      <th>Arthritis</th>\n",
       "      <td>7.558552e+06</td>\n",
       "      <td>24620.691989</td>\n",
       "    </tr>\n",
       "    <tr>\n",
       "      <th>Asthma</th>\n",
       "      <td>7.385640e+06</td>\n",
       "      <td>24294.867840</td>\n",
       "    </tr>\n",
       "    <tr>\n",
       "      <th>Cancer</th>\n",
       "      <td>8.273755e+06</td>\n",
       "      <td>24551.203246</td>\n",
       "    </tr>\n",
       "    <tr>\n",
       "      <th>Diabetes</th>\n",
       "      <td>8.620194e+06</td>\n",
       "      <td>26854.187515</td>\n",
       "    </tr>\n",
       "    <tr>\n",
       "      <th>Hypertension</th>\n",
       "      <td>6.779369e+06</td>\n",
       "      <td>25016.122381</td>\n",
       "    </tr>\n",
       "    <tr>\n",
       "      <th>Obesity</th>\n",
       "      <td>8.549580e+06</td>\n",
       "      <td>27227.962801</td>\n",
       "    </tr>\n",
       "  </tbody>\n",
       "</table>\n",
       "</div>"
      ],
      "text/plain": [
       "                            sum          mean\n",
       "Medical Condition                            \n",
       "Arthritis          7.558552e+06  24620.691989\n",
       "Asthma             7.385640e+06  24294.867840\n",
       "Cancer             8.273755e+06  24551.203246\n",
       "Diabetes           8.620194e+06  26854.187515\n",
       "Hypertension       6.779369e+06  25016.122381\n",
       "Obesity            8.549580e+06  27227.962801"
      ]
     },
     "execution_count": 273,
     "metadata": {},
     "output_type": "execute_result"
    }
   ],
   "source": [
    "#Count total cost of Billing Amount and its average\n",
    "billing_stats=conditions['Billing Amount'].agg(['sum', 'mean'])\n",
    "billing_stats"
   ]
  },
  {
   "cell_type": "code",
   "execution_count": 274,
   "id": "e42380a9-638a-49f4-9d8a-25bd25b44d27",
   "metadata": {},
   "outputs": [
    {
     "data": {
      "text/html": [
       "<div>\n",
       "<style scoped>\n",
       "    .dataframe tbody tr th:only-of-type {\n",
       "        vertical-align: middle;\n",
       "    }\n",
       "\n",
       "    .dataframe tbody tr th {\n",
       "        vertical-align: top;\n",
       "    }\n",
       "\n",
       "    .dataframe thead th {\n",
       "        text-align: right;\n",
       "    }\n",
       "</style>\n",
       "<table border=\"1\" class=\"dataframe\">\n",
       "  <thead>\n",
       "    <tr style=\"text-align: right;\">\n",
       "      <th></th>\n",
       "      <th>sum</th>\n",
       "      <th>mean</th>\n",
       "    </tr>\n",
       "    <tr>\n",
       "      <th>Medical Condition</th>\n",
       "      <th></th>\n",
       "      <th></th>\n",
       "    </tr>\n",
       "  </thead>\n",
       "  <tbody>\n",
       "    <tr>\n",
       "      <th>Diabetes</th>\n",
       "      <td>8.620194e+06</td>\n",
       "      <td>26854.187515</td>\n",
       "    </tr>\n",
       "    <tr>\n",
       "      <th>Obesity</th>\n",
       "      <td>8.549580e+06</td>\n",
       "      <td>27227.962801</td>\n",
       "    </tr>\n",
       "  </tbody>\n",
       "</table>\n",
       "</div>"
      ],
      "text/plain": [
       "                            sum          mean\n",
       "Medical Condition                            \n",
       "Diabetes           8.620194e+06  26854.187515\n",
       "Obesity            8.549580e+06  27227.962801"
      ]
     },
     "execution_count": 274,
     "metadata": {},
     "output_type": "execute_result"
    }
   ],
   "source": [
    "two_most_expensive=billing_stats.nlargest(n=2,columns=['sum','mean'])\n",
    "two_most_expensive"
   ]
  },
  {
   "cell_type": "code",
   "execution_count": 275,
   "id": "ebd64614-bca0-4ffa-b888-ee9c0583bc1f",
   "metadata": {},
   "outputs": [
    {
     "data": {
      "text/html": [
       "<div>\n",
       "<style scoped>\n",
       "    .dataframe tbody tr th:only-of-type {\n",
       "        vertical-align: middle;\n",
       "    }\n",
       "\n",
       "    .dataframe tbody tr th {\n",
       "        vertical-align: top;\n",
       "    }\n",
       "\n",
       "    .dataframe thead th {\n",
       "        text-align: right;\n",
       "    }\n",
       "</style>\n",
       "<table border=\"1\" class=\"dataframe\">\n",
       "  <thead>\n",
       "    <tr style=\"text-align: right;\">\n",
       "      <th></th>\n",
       "      <th>Name</th>\n",
       "      <th>Age</th>\n",
       "      <th>Gender</th>\n",
       "      <th>Blood Type</th>\n",
       "      <th>Medical Condition</th>\n",
       "      <th>Date Of Admission</th>\n",
       "      <th>Doctor</th>\n",
       "      <th>Insurance Provider</th>\n",
       "      <th>Billing Amount</th>\n",
       "      <th>Room Number</th>\n",
       "      <th>Admission Type</th>\n",
       "      <th>Discharge Date</th>\n",
       "      <th>Medication</th>\n",
       "      <th>Test Results</th>\n",
       "      <th>Provider Names</th>\n",
       "      <th>Stay Length</th>\n",
       "      <th>Admission Months</th>\n",
       "    </tr>\n",
       "  </thead>\n",
       "  <tbody>\n",
       "    <tr>\n",
       "      <th>0</th>\n",
       "      <td>Andrew Watts</td>\n",
       "      <td>28</td>\n",
       "      <td>Female</td>\n",
       "      <td>O+</td>\n",
       "      <td>Diabetes</td>\n",
       "      <td>2020-11-18</td>\n",
       "      <td>Kevin Wells</td>\n",
       "      <td>Medicare</td>\n",
       "      <td>37909.782410</td>\n",
       "      <td>450</td>\n",
       "      <td>Elective</td>\n",
       "      <td>2020-12-18</td>\n",
       "      <td>Ibuprofen</td>\n",
       "      <td>Abnormal</td>\n",
       "      <td>Hernandez Rogers and Vang</td>\n",
       "      <td>30 days</td>\n",
       "      <td>November</td>\n",
       "    </tr>\n",
       "    <tr>\n",
       "      <th>1</th>\n",
       "      <td>Christopher Berg</td>\n",
       "      <td>58</td>\n",
       "      <td>Female</td>\n",
       "      <td>Ab-</td>\n",
       "      <td>Cancer</td>\n",
       "      <td>2021-05-23</td>\n",
       "      <td>Heather Day</td>\n",
       "      <td>Unitedhealthcare</td>\n",
       "      <td>19784.631062</td>\n",
       "      <td>249</td>\n",
       "      <td>Elective</td>\n",
       "      <td>2021-06-22</td>\n",
       "      <td>Paracetamol</td>\n",
       "      <td>Inconclusive</td>\n",
       "      <td>Padilla-Walker</td>\n",
       "      <td>30 days</td>\n",
       "      <td>May</td>\n",
       "    </tr>\n",
       "    <tr>\n",
       "      <th>2</th>\n",
       "      <td>Sean Jennings</td>\n",
       "      <td>80</td>\n",
       "      <td>Female</td>\n",
       "      <td>Ab-</td>\n",
       "      <td>Diabetes</td>\n",
       "      <td>2023-11-12</td>\n",
       "      <td>James Tucker</td>\n",
       "      <td>Blue Cross</td>\n",
       "      <td>20257.544283</td>\n",
       "      <td>255</td>\n",
       "      <td>Elective</td>\n",
       "      <td>2023-12-12</td>\n",
       "      <td>Penicillin</td>\n",
       "      <td>Abnormal</td>\n",
       "      <td>Clark-Johnson</td>\n",
       "      <td>30 days</td>\n",
       "      <td>November</td>\n",
       "    </tr>\n",
       "    <tr>\n",
       "      <th>3</th>\n",
       "      <td>April Valencia</td>\n",
       "      <td>42</td>\n",
       "      <td>Male</td>\n",
       "      <td>A+</td>\n",
       "      <td>Diabetes</td>\n",
       "      <td>2024-01-04</td>\n",
       "      <td>Lonnie Morgan</td>\n",
       "      <td>Medicare</td>\n",
       "      <td>22356.226492</td>\n",
       "      <td>310</td>\n",
       "      <td>Urgent</td>\n",
       "      <td>2024-02-03</td>\n",
       "      <td>Aspirin</td>\n",
       "      <td>Inconclusive</td>\n",
       "      <td>Levine-Miller</td>\n",
       "      <td>30 days</td>\n",
       "      <td>January</td>\n",
       "    </tr>\n",
       "    <tr>\n",
       "      <th>4</th>\n",
       "      <td>Rita Archer</td>\n",
       "      <td>20</td>\n",
       "      <td>Male</td>\n",
       "      <td>O-</td>\n",
       "      <td>Diabetes</td>\n",
       "      <td>2024-01-05</td>\n",
       "      <td>Victoria Gonzales</td>\n",
       "      <td>Medicare</td>\n",
       "      <td>48995.980592</td>\n",
       "      <td>406</td>\n",
       "      <td>Elective</td>\n",
       "      <td>2024-02-04</td>\n",
       "      <td>Lipitor</td>\n",
       "      <td>Normal</td>\n",
       "      <td>Marquez Silva Smith</td>\n",
       "      <td>30 days</td>\n",
       "      <td>January</td>\n",
       "    </tr>\n",
       "  </tbody>\n",
       "</table>\n",
       "</div>"
      ],
      "text/plain": [
       "               Name  Age  Gender Blood Type Medical Condition  \\\n",
       "0      Andrew Watts   28  Female         O+          Diabetes   \n",
       "1  Christopher Berg   58  Female        Ab-            Cancer   \n",
       "2     Sean Jennings   80  Female        Ab-          Diabetes   \n",
       "3    April Valencia   42    Male         A+          Diabetes   \n",
       "4       Rita Archer   20    Male         O-          Diabetes   \n",
       "\n",
       "  Date Of Admission             Doctor Insurance Provider  Billing Amount  \\\n",
       "0        2020-11-18        Kevin Wells           Medicare    37909.782410   \n",
       "1        2021-05-23        Heather Day   Unitedhealthcare    19784.631062   \n",
       "2        2023-11-12       James Tucker         Blue Cross    20257.544283   \n",
       "3        2024-01-04      Lonnie Morgan           Medicare    22356.226492   \n",
       "4        2024-01-05  Victoria Gonzales           Medicare    48995.980592   \n",
       "\n",
       "   Room Number Admission Type Discharge Date   Medication  Test Results  \\\n",
       "0          450       Elective     2020-12-18    Ibuprofen      Abnormal   \n",
       "1          249       Elective     2021-06-22  Paracetamol  Inconclusive   \n",
       "2          255       Elective     2023-12-12   Penicillin      Abnormal   \n",
       "3          310         Urgent     2024-02-03      Aspirin  Inconclusive   \n",
       "4          406       Elective     2024-02-04      Lipitor        Normal   \n",
       "\n",
       "              Provider Names Stay Length Admission Months  \n",
       "0  Hernandez Rogers and Vang     30 days         November  \n",
       "1             Padilla-Walker     30 days              May  \n",
       "2              Clark-Johnson     30 days         November  \n",
       "3              Levine-Miller     30 days          January  \n",
       "4        Marquez Silva Smith     30 days          January  "
      ]
     },
     "execution_count": 275,
     "metadata": {},
     "output_type": "execute_result"
    }
   ],
   "source": [
    "#Extracting month names from the \"Date of Admission\" column and creating a new column \"Admission Months\"\n",
    "longest_stay['Admission Months']=longest_stay['Date Of Admission'].dt.month_name()\n",
    "longest_stay.head()\n"
   ]
  },
  {
   "cell_type": "code",
   "execution_count": 276,
   "id": "621f0cda-c18d-40d9-8fe8-90441f7f085e",
   "metadata": {},
   "outputs": [],
   "source": [
    "month_count=longest_stay['Admission Months'].value_counts()\n",
    "month_counts=pd.DataFrame(month_count)\n"
   ]
  },
  {
   "cell_type": "code",
   "execution_count": 283,
   "id": "cbd4da39-0bbf-4982-8525-b4b1907c9ee2",
   "metadata": {},
   "outputs": [
    {
     "data": {
      "text/plain": [
       "Text(0.5, 1.0, 'Total Number of Admissions in Each Month')"
      ]
     },
     "execution_count": 283,
     "metadata": {},
     "output_type": "execute_result"
    },
    {
     "data": {
      "image/png": "[encoded data removed]",
      "text/plain": [
       "<Figure size 1200x600 with 1 Axes>"
      ]
     },
     "metadata": {},
     "output_type": "display_data"
    }
   ],
   "source": [
    "\n",
    "ax=month_counts.plot(kind='barh',figsize=(12,6),color='g')\n",
    "\n",
    "for container in  ax.containers:\n",
    "    ax.bar_label(container,fmt='%.1f',color='black')\n",
    "plt.ylabel('Admission Months')\n",
    "plt.xlabel('Number of Asmissions')\n",
    "plt.grid(axis='x')\n",
    "plt.title('Total Number of Admissions in Each Month')\n"
   ]
  },
  {
   "cell_type": "markdown",
   "id": "d1236483-28f7-44d8-9948-7e6ec3e95b81",
   "metadata": {},
   "source": [
    "### From the plot, it is evident that May and April have the highest number of admissions compared to other months. This indicates that patient admissions peak during these months, which may be important for resource planning and staffing in the hospital."
   ]
  },
  {
   "cell_type": "code",
   "execution_count": 278,
   "id": "b2292a58-0441-4abb-9b02-ef569c15ebd2",
   "metadata": {},
   "outputs": [],
   "source": [
    "#Check overlap\n",
    "mask_obesity=longest_stay[longest_stay['Medical Condition']=='Obesity']['Name']\n",
    "mask_diabetes=longest_stay[longest_stay['Medical Condition']=='Diabetes']['Name']\n",
    "mask_cancer=longest_stay[longest_stay['Medical Condition']=='Cancer']['Name']\n",
    "patients_cancer=mask_cancer.tolist()\n",
    "patients_diabetes=mask_diabetes.tolist()\n",
    "patients_obesity=mask_obesity.tolist()"
   ]
  },
  {
   "cell_type": "code",
   "execution_count": 279,
   "id": "daefc296-71ac-4f5b-8ff7-9a3f96d59539",
   "metadata": {},
   "outputs": [
    {
     "data": {
      "text/plain": [
       "Name\n",
       "False    335\n",
       "True       2\n",
       "Name: count, dtype: int64"
      ]
     },
     "execution_count": 279,
     "metadata": {},
     "output_type": "execute_result"
    }
   ],
   "source": [
    "overlap_cancer_diabetes=mask_cancer.isin(patients_diabetes)\n",
    "overlap_cancer_diabetes.value_counts()"
   ]
  },
  {
   "cell_type": "code",
   "execution_count": 280,
   "id": "44285517-b2eb-4882-b07b-a7c8befa6ff1",
   "metadata": {},
   "outputs": [
    {
     "data": {
      "text/plain": [
       "Name\n",
       "False    337\n",
       "Name: count, dtype: int64"
      ]
     },
     "execution_count": 280,
     "metadata": {},
     "output_type": "execute_result"
    }
   ],
   "source": [
    "overlap_cancer_obesity=mask_cancer.isin(patients_obesity)\n",
    "overlap_cancer_obesity.value_counts()"
   ]
  },
  {
   "cell_type": "code",
   "execution_count": 281,
   "id": "6612946b-4859-442f-b634-4fa9db3cd446",
   "metadata": {},
   "outputs": [
    {
     "data": {
      "text/plain": [
       "Name\n",
       "False    320\n",
       "True       1\n",
       "Name: count, dtype: int64"
      ]
     },
     "execution_count": 281,
     "metadata": {},
     "output_type": "execute_result"
    }
   ],
   "source": [
    "overlap_diabetes_obesity=mask_diabetes.isin(patients_obesity)\n",
    "overlap_diabetes_obesity.value_counts()\n"
   ]
  },
  {
   "cell_type": "markdown",
   "id": "79ae6c16-527f-484e-862f-5ad3d075e6d5",
   "metadata": {},
   "source": [
    "### Findings Summary: ###\n",
    " #### - Adults make up the largest age group, showing that most healthcare services in this general dataset are used by people aged 25–64\n",
    " #### - The most frequent medical condition among patients in 'longest_stay' (30 days) is Cancer\n",
    " #### - However, Diabetes and Obesity is associated with the highest amount of billing amounts\n",
    " #### - Only three patients in the 'longest_stay' dataset have overlapping diagnoses among these conditions, suggesting that co-occurrence is rare and does not significantly impact the overall analysis\n",
    " #### - The highest number of admissions occurs in May and April"
   ]
  },
  {
   "cell_type": "code",
   "execution_count": null,
   "id": "99b6952b-fa43-458c-9cbf-676a9450be06",
   "metadata": {},
   "outputs": [],
   "source": []
  },
  {
   "cell_type": "code",
   "execution_count": null,
   "id": "c525d250-8600-4353-bf6c-1e121b9bcf40",
   "metadata": {},
   "outputs": [],
   "source": []
  },
  {
   "cell_type": "code",
   "execution_count": null,
   "id": "c1cc5daa-d9b7-42e8-b151-4b43dc715960",
   "metadata": {},
   "outputs": [],
   "source": []
  },
  {
   "cell_type": "code",
   "execution_count": null,
   "id": "5345af54-e83e-4ba9-9536-41ec1ea44fcb",
   "metadata": {},
   "outputs": [],
   "source": []
  }
 ],
 "metadata": {
  "kernelspec": {
   "display_name": "Python 3 (ipykernel)",
   "language": "python",
   "name": "python3"
  },
  "language_info": {
   "codemirror_mode": {
    "name": "ipython",
    "version": 3
   },
   "file_extension": ".py",
   "mimetype": "text/x-python",
   "name": "python",
   "nbconvert_exporter": "python",
   "pygments_lexer": "ipython3",
   "version": "3.13.5"
  }
 },
 "nbformat": 4,
 "nbformat_minor": 5
}
